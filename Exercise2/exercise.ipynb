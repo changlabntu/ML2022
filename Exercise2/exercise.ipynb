{
 "cells": [
  {
   "cell_type": "markdown",
   "metadata": {
    "pycharm": {
     "name": "#%% md\n"
    }
   },
   "source": [
    "First, download medical_mnist.zip from\n",
    "https://www.dropbox.com/sh/f5xhsxa8njo144w/AADvbT9UOem2D0xTPACTUQ-fa?dl=0\n",
    "unzip the data to Exercise2 / Data / medical_mnist\n",
    "\n",
    "import all the helper functions"
   ]
  },
  {
   "cell_type": "code",
   "execution_count": 1,
   "metadata": {
    "collapsed": false,
    "jupyter": {
     "outputs_hidden": false
    },
    "pycharm": {
     "name": "#%%\n"
    }
   },
   "outputs": [
    {
     "name": "stderr",
     "output_type": "stream",
     "text": [
      "/Users/garychang/opt/anaconda3/envs/CourseML/lib/python3.8/site-packages/tqdm/auto.py:22: TqdmWarning: IProgress not found. Please update jupyter and ipywidgets. See https://ipywidgets.readthedocs.io/en/stable/user_install.html\n",
      "  from .autonotebook import tqdm as notebook_tqdm\n"
     ]
    }
   ],
   "source": [
    "from utils_mnist import *"
   ]
  },
  {
   "cell_type": "code",
   "execution_count": 12,
   "metadata": {
    "collapsed": false,
    "jupyter": {
     "outputs_hidden": false
    },
    "pycharm": {
     "name": "#%%\n"
    }
   },
   "outputs": [],
   "source": [
    "class Trainer():\n",
    "    def __init__(self, args, train_loader, validation_loader, model, loss_function, optimizer):\n",
    "        pass\n",
    "\n",
    "    def overall_loop(self):\n",
    "        for epoch in range(args['num_epochs']):\n",
    "            train_loss = self.training_loop(train_loader)  # do the training look\n",
    "            validation_loss = self.validation_loop(validation_loader) # do the validation loop\n",
    "            # print out the training and validation loss per epoch\n",
    "            print('Epoch [{}/{}], Train Loss: {:.4f}, Validation Loss: {:.4f}'\n",
    "                  .format(epoch + 1, args['num_epochs'],\n",
    "                          sum(train_loss) / len(train_loss), sum(validation_loss) / len(validation_loss)))\n",
    "\n",
    "    def training_loop(self, train_loader):\n",
    "        train_loss = []\n",
    "        for i, train_batch in enumerate(train_loader):  # get mini-bacthes from the train_loader\n",
    "            loss = self.training_step(train_batch) # get the train loss from the train_step\n",
    "        train_loss.append(loss.item()) # add the train_loss up\n",
    "        return train_loss\n",
    "\n",
    "    def validation_loop(self, validation_loader):\n",
    "        validation_loss = []\n",
    "        for i, validation_batch in enumerate(validation_loader):\n",
    "            loss = self.validation_step(validation_batch)\n",
    "        validation_loss.append(loss.item())\n",
    "        return validation_loss\n",
    "\n",
    "    def training_step(self, train_batch):\n",
    "        (images, labels) = train_batch\n",
    "        images = images.reshape(-1, args['img_size'])  # turn the 2D image to a 1D feature (flatten)\n",
    "\n",
    "        # Forward pass\n",
    "        outputs = model(images)  # get the model output\n",
    "        loss = loss_function(outputs, labels) # calculate the loss\n",
    "\n",
    "        # Magic section where we do optimization by backpropogation\n",
    "        optimizer.zero_grad()\n",
    "        loss.backward()\n",
    "        optimizer.step()\n",
    "        return loss\n",
    "\n",
    "    def validation_step(self, validation_batch):\n",
    "        (images, labels) = validation_batch\n",
    "        images = images.reshape(-1, args['img_size'])\n",
    "\n",
    "        # Forward pass\n",
    "        outputs = model(images)  # get the model output\n",
    "        loss = loss_function(outputs, labels) # calculate the loss\n",
    "        return loss"
   ]
  },
  {
   "cell_type": "markdown",
   "metadata": {
    "pycharm": {
     "name": "#%% md\n"
    }
   },
   "source": [
    "define all the arguments (hyperparameters)"
   ]
  },
  {
   "cell_type": "code",
   "execution_count": 3,
   "metadata": {
    "collapsed": false,
    "jupyter": {
     "outputs_hidden": false
    },
    "pycharm": {
     "name": "#%%\n"
    }
   },
   "outputs": [
    {
     "name": "stdout",
     "output_type": "stream",
     "text": [
      "{'img_size': 4096, 'num_classes': 10, 'num_epochs': 50, 'batch_size': 16, 'learning_rate': 0.001, 'model': 'MLP'}\n"
     ]
    }
   ],
   "source": [
    "# arguments\n",
    "def get_arguments():\n",
    "    # Hyper-parameters\n",
    "    args = {'img_size': 64 * 64,\n",
    "            'num_classes': 10,\n",
    "            'num_epochs': 50,\n",
    "            'batch_size': 16,\n",
    "            'learning_rate': 0.001,\n",
    "            'model': 'MLP'}\n",
    "    return args\n",
    "\n",
    "args = get_arguments()\n",
    "print(args)"
   ]
  },
  {
   "cell_type": "code",
   "execution_count": 4,
   "metadata": {
    "collapsed": false,
    "jupyter": {
     "outputs_hidden": false
    },
    "pycharm": {
     "name": "#%%\n"
    }
   },
   "outputs": [
    {
     "name": "stdout",
     "output_type": "stream",
     "text": [
      "Done with data preparation\n"
     ]
    }
   ],
   "source": [
    "# Medical MNIST dataset (images and labels)\n",
    "train_loader, validation_loader = get_medical_mnist(args=args)\n",
    "print('Done with data preparation')"
   ]
  },
  {
   "cell_type": "code",
   "execution_count": 5,
   "metadata": {
    "collapsed": false,
    "jupyter": {
     "outputs_hidden": false
    },
    "pycharm": {
     "name": "#%%\n"
    }
   },
   "outputs": [
    {
     "name": "stdout",
     "output_type": "stream",
     "text": [
      "Length of train dataset:\n",
      "35000\n",
      "Length of validation dataset:\n",
      "15000\n",
      "Length of train dataloader:\n",
      "2188\n",
      "Length of validation dataloader:\n",
      "938\n",
      "Why is that?\n"
     ]
    }
   ],
   "source": [
    "print('Length of train dataset:')\n",
    "print(len(train_loader.dataset))\n",
    "print('Length of validation dataset:')\n",
    "print(len(validation_loader.dataset))\n",
    "print('Length of train dataloader:')\n",
    "print(len(train_loader))\n",
    "print('Length of validation dataloader:')\n",
    "print(len(validation_loader))\n",
    "print('Why is that?')"
   ]
  },
  {
   "cell_type": "markdown",
   "metadata": {
    "pycharm": {
     "name": "#%% md\n"
    }
   },
   "source": [
    "Let's look at some images"
   ]
  },
  {
   "cell_type": "code",
   "execution_count": 6,
   "metadata": {
    "collapsed": false,
    "jupyter": {
     "outputs_hidden": false
    },
    "pycharm": {
     "name": "#%%\n"
    }
   },
   "outputs": [
    {
     "data": {
      "text/plain": "<Figure size 1440x288 with 5 Axes>",
      "image/png": "[encoded data removed]"
     },
     "metadata": {
      "needs_background": "light"
     },
     "output_type": "display_data"
    }
   ],
   "source": [
    "some_index = np.random.randint(0, len(train_loader.dataset), 10)\n",
    "some_imgs = [train_loader.dataset.__getitem__(idx)[0] for idx in some_index]\n",
    "some_labels = [train_loader.dataset.__getitem__(idx)[1] for idx in some_index]\n",
    "\n",
    "show_examples(some_imgs[:5], some_labels[:5])"
   ]
  },
  {
   "cell_type": "code",
   "execution_count": 7,
   "metadata": {
    "collapsed": false,
    "jupyter": {
     "outputs_hidden": false
    },
    "pycharm": {
     "name": "#%%\n"
    }
   },
   "outputs": [
    {
     "name": "stdout",
     "output_type": "stream",
     "text": [
      "MLP\n"
     ]
    }
   ],
   "source": [
    "# get model\n",
    "if args['model'] == 'logistic_regression':\n",
    "    print('Using logistic regression')\n",
    "    model = nn.Linear(args['img_size'], args['num_classes'])\n",
    "elif args['model'] == 'MLP':\n",
    "    print('MLP')\n",
    "    model = MLP(dropout=0, hidden_1=512, hidden_2=512)"
   ]
  },
  {
   "cell_type": "code",
   "execution_count": 8,
   "metadata": {
    "collapsed": false,
    "jupyter": {
     "outputs_hidden": false
    },
    "pycharm": {
     "name": "#%%\n"
    }
   },
   "outputs": [],
   "source": [
    "# Loss and optimizer\n",
    "loss_function = nn.CrossEntropyLoss()\n",
    "optimizer = torch.optim.SGD(model.parameters(), lr=args['learning_rate'])"
   ]
  },
  {
   "cell_type": "markdown",
   "metadata": {
    "pycharm": {
     "name": "#%% md\n"
    }
   },
   "source": [
    "Lets build the trainer together"
   ]
  },
  {
   "cell_type": "code",
   "execution_count": 9,
   "metadata": {
    "pycharm": {
     "name": "#%%\n"
    }
   },
   "outputs": [],
   "source": [
    "trainer = Trainer(args, train_loader, validation_loader, model, loss_function, optimizer)"
   ]
  },
  {
   "cell_type": "markdown",
   "metadata": {
    "pycharm": {
     "name": "#%% md\n"
    }
   },
   "source": [
    "Start the training!"
   ]
  },
  {
   "cell_type": "code",
   "execution_count": 10,
   "metadata": {
    "collapsed": false,
    "jupyter": {
     "outputs_hidden": false
    },
    "pycharm": {
     "name": "#%%\n"
    }
   },
   "outputs": [
    {
     "name": "stdout",
     "output_type": "stream",
     "text": [
      "Epoch [1/50], Train Loss: 0.4119, Validation Loss: 0.6364\n",
      "Epoch [2/50], Train Loss: 0.2916, Validation Loss: 0.4884\n",
      "Epoch [3/50], Train Loss: 0.0422, Validation Loss: 0.4543\n",
      "Epoch [4/50], Train Loss: 0.0321, Validation Loss: 0.4284\n",
      "Epoch [5/50], Train Loss: 0.1267, Validation Loss: 0.3798\n",
      "Epoch [6/50], Train Loss: 0.0371, Validation Loss: 0.3613\n",
      "Epoch [7/50], Train Loss: 0.0178, Validation Loss: 0.3600\n",
      "Epoch [8/50], Train Loss: 0.0553, Validation Loss: 0.3282\n",
      "Epoch [9/50], Train Loss: 0.0289, Validation Loss: 0.3091\n",
      "Epoch [10/50], Train Loss: 1.7916, Validation Loss: 0.2942\n",
      "Epoch [11/50], Train Loss: 0.0282, Validation Loss: 0.2790\n",
      "Epoch [12/50], Train Loss: 0.0727, Validation Loss: 0.2557\n",
      "Epoch [13/50], Train Loss: 0.2577, Validation Loss: 0.2372\n",
      "Epoch [14/50], Train Loss: 0.0517, Validation Loss: 0.2355\n",
      "Epoch [15/50], Train Loss: 0.0158, Validation Loss: 0.2012\n",
      "Epoch [16/50], Train Loss: 0.0080, Validation Loss: 0.1992\n",
      "Epoch [17/50], Train Loss: 0.2431, Validation Loss: 0.1984\n",
      "Epoch [18/50], Train Loss: 0.0050, Validation Loss: 0.1655\n",
      "Epoch [19/50], Train Loss: 0.0480, Validation Loss: 0.1566\n",
      "Epoch [20/50], Train Loss: 0.0074, Validation Loss: 0.1496\n",
      "Epoch [21/50], Train Loss: 0.0149, Validation Loss: 0.1389\n",
      "Epoch [22/50], Train Loss: 0.1582, Validation Loss: 0.1230\n",
      "Epoch [23/50], Train Loss: 0.0098, Validation Loss: 0.1113\n",
      "Epoch [24/50], Train Loss: 0.0142, Validation Loss: 0.1106\n",
      "Epoch [25/50], Train Loss: 0.0098, Validation Loss: 0.1070\n",
      "Epoch [26/50], Train Loss: 0.0237, Validation Loss: 0.0925\n",
      "Epoch [27/50], Train Loss: 0.0023, Validation Loss: 0.0899\n",
      "Epoch [28/50], Train Loss: 0.0123, Validation Loss: 0.0898\n",
      "Epoch [29/50], Train Loss: 0.0068, Validation Loss: 0.0720\n",
      "Epoch [30/50], Train Loss: 0.0058, Validation Loss: 0.0719\n",
      "Epoch [31/50], Train Loss: 0.0050, Validation Loss: 0.0695\n",
      "Epoch [32/50], Train Loss: 0.0245, Validation Loss: 0.0601\n",
      "Epoch [33/50], Train Loss: 0.0012, Validation Loss: 0.0595\n",
      "Epoch [34/50], Train Loss: 0.0196, Validation Loss: 0.0549\n",
      "Epoch [35/50], Train Loss: 0.0036, Validation Loss: 0.0445\n",
      "Epoch [36/50], Train Loss: 0.0686, Validation Loss: 0.0498\n",
      "Epoch [37/50], Train Loss: 0.0060, Validation Loss: 0.0434\n",
      "Epoch [38/50], Train Loss: 0.0026, Validation Loss: 0.0401\n",
      "Epoch [39/50], Train Loss: 0.0043, Validation Loss: 0.0383\n",
      "Epoch [40/50], Train Loss: 0.0870, Validation Loss: 0.0406\n",
      "Epoch [41/50], Train Loss: 0.0039, Validation Loss: 0.0342\n",
      "Epoch [42/50], Train Loss: 0.0082, Validation Loss: 0.0310\n",
      "Epoch [43/50], Train Loss: 0.0032, Validation Loss: 0.0294\n",
      "Epoch [44/50], Train Loss: 0.0038, Validation Loss: 0.0303\n",
      "Epoch [45/50], Train Loss: 0.0031, Validation Loss: 0.0276\n",
      "Epoch [46/50], Train Loss: 0.0078, Validation Loss: 0.0267\n",
      "Epoch [47/50], Train Loss: 0.0114, Validation Loss: 0.0227\n",
      "Epoch [48/50], Train Loss: 0.0017, Validation Loss: 0.0215\n",
      "Epoch [49/50], Train Loss: 0.0017, Validation Loss: 0.0211\n",
      "Epoch [50/50], Train Loss: 0.0045, Validation Loss: 0.0198\n"
     ]
    }
   ],
   "source": [
    "trainer.overall_loop()"
   ]
  },
  {
   "cell_type": "markdown",
   "metadata": {
    "pycharm": {
     "name": "#%% md\n"
    }
   },
   "source": [
    "Calculating validation accuracy"
   ]
  },
  {
   "cell_type": "code",
   "execution_count": 11,
   "metadata": {
    "collapsed": false,
    "jupyter": {
     "outputs_hidden": false
    },
    "pycharm": {
     "name": "#%%\n"
    }
   },
   "outputs": [
    {
     "name": "stdout",
     "output_type": "stream",
     "text": [
      "Accuracy of the model on the 10000 test images: 99.36000061035156 %\n"
     ]
    }
   ],
   "source": [
    "correct = 0\n",
    "total = 0\n",
    "for images, labels in validation_loader:\n",
    "    images = images.reshape(-1, args['img_size'])\n",
    "    outputs = model(images)\n",
    "    _, predicted = torch.max(outputs.data, 1)\n",
    "    total += labels.size(0)\n",
    "    correct += (predicted == labels).sum()\n",
    "\n",
    "print('Accuracy of the model on the 10000 test images: {} %'.format(100 * correct / total))"
   ]
  },
  {
   "cell_type": "code",
   "execution_count": 11,
   "outputs": [],
   "source": [],
   "metadata": {
    "collapsed": false,
    "pycharm": {
     "name": "#%%\n"
    }
   }
  },
  {
   "cell_type": "code",
   "execution_count": null,
   "metadata": {
    "pycharm": {
     "name": "#%%\n"
    }
   },
   "outputs": [],
   "source": []
  }
 ],
 "metadata": {
  "kernelspec": {
   "display_name": "Python 3",
   "language": "python",
   "name": "python3"
  },
  "language_info": {
   "codemirror_mode": {
    "name": "ipython",
    "version": 3
   },
   "file_extension": ".py",
   "mimetype": "text/x-python",
   "name": "python",
   "nbconvert_exporter": "python",
   "pygments_lexer": "ipython3",
   "version": "3.8.13"
  }
 },
 "nbformat": 4,
 "nbformat_minor": 4
}