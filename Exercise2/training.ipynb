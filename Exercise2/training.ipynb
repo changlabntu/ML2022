{
 "cells": [
  {
   "cell_type": "markdown",
   "metadata": {
    "pycharm": {
     "name": "#%% md\n"
    }
   },
   "source": [
    "First, download medical_mnist.zip from Kaggle\n",
    "https://www.kaggle.com/datasets/andrewmvd/medical-mnist\n",
    "or from dropbox\n",
    "https://www.dropbox.com/scl/fi/wql10vir4zk5mppc88nl8/medical_mnist.zip?rlkey=majqo92r2g5uejqmsnmlo0l5j&dl=0\n",
    "unzip the data to Exercise2 / mmnist/\n",
    "\n",
    "import all the helper functions"
   ]
  },
  {
   "cell_type": "code",
   "execution_count": 1,
   "metadata": {
    "collapsed": false,
    "jupyter": {
     "outputs_hidden": false
    },
    "pycharm": {
     "name": "#%%\n"
    }
   },
   "outputs": [
    {
     "name": "stderr",
     "output_type": "stream",
     "text": [
      "/Users/garychang/opt/anaconda3/envs/CourseML/lib/python3.8/site-packages/tqdm/auto.py:22: TqdmWarning: IProgress not found. Please update jupyter and ipywidgets. See https://ipywidgets.readthedocs.io/en/stable/user_install.html\n",
      "  from .autonotebook import tqdm as notebook_tqdm\n"
     ]
    }
   ],
   "source": [
    "from utils_mnist import *\n",
    "import numpy as np"
   ]
  },
  {
   "cell_type": "code",
   "execution_count": 10,
   "metadata": {
    "collapsed": false,
    "jupyter": {
     "outputs_hidden": false
    },
    "pycharm": {
     "name": "#%%\n"
    }
   },
   "outputs": [],
   "source": [
    "class Trainer():\n",
    "    def __init__(self, args, train_loader, validation_loader, model, loss_function, optimizer):\n",
    "        pass\n",
    "\n",
    "    def overall_loop(self):\n",
    "        for epoch in range(args['num_epochs']):\n",
    "            train_loss = self.training_loop(train_loader)  # do the training look\n",
    "            validation_loss = self.validation_loop(validation_loader) # do the validation loop\n",
    "            # print out the training and validation loss per epoch\n",
    "            print('Epoch [{}/{}], Train Loss: {:.4f}, Validation Loss: {:.4f}'\n",
    "                  .format(epoch + 1, args['num_epochs'],\n",
    "                          sum(train_loss) / len(train_loss), sum(validation_loss) / len(validation_loss)))\n",
    "\n",
    "    def training_loop(self, train_loader):\n",
    "        train_loss = []\n",
    "        for i, train_batch in enumerate(train_loader):  # get mini-bacthes from the train_loader\n",
    "            loss = self.training_step(train_batch) # get the train loss from the train_step\n",
    "        train_loss.append(loss.item()) # add the train_loss up\n",
    "        return train_loss\n",
    "\n",
    "    def validation_loop(self, validation_loader):\n",
    "        validation_loss = []\n",
    "        for i, validation_batch in enumerate(validation_loader):\n",
    "            loss = self.validation_step(validation_batch)\n",
    "        validation_loss.append(loss.item())\n",
    "        return validation_loss\n",
    "\n",
    "    def training_step(self, train_batch):\n",
    "        (images, labels) = train_batch\n",
    "        images = images.reshape(-1, args['img_size'])  # turn the 2D image to a 1D feature (flatten)\n",
    "\n",
    "        # Forward pass\n",
    "        outputs = model(images)  # get the model output\n",
    "        loss = loss_function(outputs, labels) # calculate the loss\n",
    "\n",
    "        # Magic section where we do optimization by backpropogation\n",
    "        optimizer.zero_grad()\n",
    "        loss.backward()\n",
    "        optimizer.step()\n",
    "        return loss\n",
    "\n",
    "    def validation_step(self, validation_batch):\n",
    "        (images, labels) = validation_batch\n",
    "        images = images.reshape(-1, args['img_size'])\n",
    "\n",
    "        # Forward pass\n",
    "        outputs = model(images)  # get the model output\n",
    "        loss = loss_function(outputs, labels) # calculate the loss\n",
    "        return loss"
   ]
  },
  {
   "cell_type": "markdown",
   "metadata": {
    "pycharm": {
     "name": "#%% md\n"
    }
   },
   "source": [
    "define all the arguments (hyperparameters)"
   ]
  },
  {
   "cell_type": "code",
   "execution_count": 14,
   "metadata": {
    "collapsed": false,
    "jupyter": {
     "outputs_hidden": false
    },
    "pycharm": {
     "name": "#%%\n"
    }
   },
   "outputs": [
    {
     "name": "stdout",
     "output_type": "stream",
     "text": [
      "{'img_size': 4096, 'num_classes': 10, 'num_epochs': 50, 'batch_size': 16, 'learning_rate': 0.001, 'model': 'logistic_regression'}\n"
     ]
    }
   ],
   "source": [
    "# arguments\n",
    "def get_arguments():\n",
    "    # Hyper-parameters\n",
    "    args = {'img_size': 64 * 64,\n",
    "            'num_classes': 10,\n",
    "            'num_epochs': 50,\n",
    "            'batch_size': 16,\n",
    "            'learning_rate': 0.001,\n",
    "            'model': 'logistic_regression'} # MLP or logistic_regression\n",
    "    return args\n",
    "\n",
    "args = get_arguments()\n",
    "print(args)"
   ]
  },
  {
   "cell_type": "code",
   "execution_count": 4,
   "metadata": {
    "collapsed": false,
    "jupyter": {
     "outputs_hidden": false
    },
    "pycharm": {
     "name": "#%%\n"
    }
   },
   "outputs": [
    {
     "name": "stdout",
     "output_type": "stream",
     "text": [
      "mmnist/\n",
      "42000\n",
      "16954\n",
      "Done with data preparation\n"
     ]
    }
   ],
   "source": [
    "# Medical MNIST dataset (images and labels)\n",
    "train_loader, validation_loader = get_medical_mnist(args=args)\n",
    "print('Done with data preparation')"
   ]
  },
  {
   "cell_type": "code",
   "execution_count": 5,
   "metadata": {
    "collapsed": false,
    "jupyter": {
     "outputs_hidden": false
    },
    "pycharm": {
     "name": "#%%\n"
    }
   },
   "outputs": [
    {
     "name": "stdout",
     "output_type": "stream",
     "text": [
      "Length of train dataset:\n",
      "42000\n",
      "Length of validation dataset:\n",
      "16954\n",
      "Length of train dataloader:\n",
      "2625\n",
      "Length of validation dataloader:\n",
      "1060\n",
      "Why is that?\n"
     ]
    }
   ],
   "source": [
    "print('Length of train dataset:')\n",
    "print(len(train_loader.dataset))\n",
    "print('Length of validation dataset:')\n",
    "print(len(validation_loader.dataset))\n",
    "print('Length of train dataloader:')\n",
    "print(len(train_loader))\n",
    "print('Length of validation dataloader:')\n",
    "print(len(validation_loader))\n",
    "print('Why is that?')"
   ]
  },
  {
   "cell_type": "markdown",
   "metadata": {
    "pycharm": {
     "name": "#%% md\n"
    }
   },
   "source": [
    "Let's look at some images"
   ]
  },
  {
   "cell_type": "code",
   "execution_count": 6,
   "metadata": {
    "collapsed": false,
    "jupyter": {
     "outputs_hidden": false
    },
    "pycharm": {
     "name": "#%%\n"
    }
   },
   "outputs": [
    {
     "data": {
      "text/plain": "<Figure size 1440x288 with 5 Axes>",
      "image/png": "[encoded data removed]"
     },
     "metadata": {
      "needs_background": "light"
     },
     "output_type": "display_data"
    }
   ],
   "source": [
    "some_index = np.random.randint(0, len(train_loader.dataset), 10)\n",
    "some_imgs = [train_loader.dataset.__getitem__(idx)[0] for idx in some_index]\n",
    "some_labels = [train_loader.dataset.__getitem__(idx)[1] for idx in some_index]\n",
    "\n",
    "show_examples(some_imgs[:5], some_labels[:5])"
   ]
  },
  {
   "cell_type": "code",
   "execution_count": 15,
   "metadata": {
    "collapsed": false,
    "jupyter": {
     "outputs_hidden": false
    },
    "pycharm": {
     "name": "#%%\n"
    }
   },
   "outputs": [
    {
     "name": "stdout",
     "output_type": "stream",
     "text": [
      "Using logistic regression\n"
     ]
    }
   ],
   "source": [
    "# get model\n",
    "if args['model'] == 'logistic_regression':\n",
    "    print('Using logistic regression')\n",
    "    model = nn.Linear(args['img_size'], args['num_classes'])\n",
    "elif args['model'] == 'MLP':\n",
    "    print('MLP')\n",
    "    model = MLP(dropout=0, hidden_1=512, hidden_2=512)"
   ]
  },
  {
   "cell_type": "code",
   "execution_count": 18,
   "metadata": {
    "collapsed": false,
    "jupyter": {
     "outputs_hidden": false
    },
    "pycharm": {
     "name": "#%%\n"
    }
   },
   "outputs": [],
   "source": [
    "# Loss and optimizer\n",
    "loss_function = nn.CrossEntropyLoss() # this combined the LogSoftmax and NLLLoss\n",
    "optimizer = torch.optim.SGD(model.parameters(), lr=args['learning_rate'])"
   ]
  },
  {
   "cell_type": "markdown",
   "metadata": {
    "pycharm": {
     "name": "#%% md\n"
    }
   },
   "source": [
    "Lets build the trainer together"
   ]
  },
  {
   "cell_type": "code",
   "execution_count": 19,
   "metadata": {
    "pycharm": {
     "name": "#%%\n"
    }
   },
   "outputs": [],
   "source": [
    "trainer = Trainer(args, train_loader, validation_loader, model, loss_function, optimizer)"
   ]
  },
  {
   "cell_type": "markdown",
   "metadata": {
    "pycharm": {
     "name": "#%% md\n"
    }
   },
   "source": [
    "Start the training!"
   ]
  },
  {
   "cell_type": "code",
   "execution_count": 20,
   "metadata": {
    "collapsed": false,
    "jupyter": {
     "outputs_hidden": false
    },
    "pycharm": {
     "name": "#%%\n"
    }
   },
   "outputs": [
    {
     "name": "stdout",
     "output_type": "stream",
     "text": [
      "Epoch [1/50], Train Loss: 0.1940, Validation Loss: 0.4693\n",
      "Epoch [2/50], Train Loss: 0.1079, Validation Loss: 0.4036\n",
      "Epoch [3/50], Train Loss: 0.2384, Validation Loss: 0.3957\n",
      "Epoch [4/50], Train Loss: 0.0815, Validation Loss: 0.3623\n",
      "Epoch [5/50], Train Loss: 0.0740, Validation Loss: 0.3373\n",
      "Epoch [6/50], Train Loss: 0.0859, Validation Loss: 0.3284\n",
      "Epoch [7/50], Train Loss: 0.0543, Validation Loss: 0.3180\n",
      "Epoch [8/50], Train Loss: 0.1370, Validation Loss: 0.3209\n",
      "Epoch [9/50], Train Loss: 0.0495, Validation Loss: 0.3054\n",
      "Epoch [10/50], Train Loss: 0.2082, Validation Loss: 0.3032\n",
      "Epoch [11/50], Train Loss: 0.1133, Validation Loss: 0.3042\n",
      "Epoch [12/50], Train Loss: 0.0461, Validation Loss: 0.2966\n",
      "Epoch [13/50], Train Loss: 0.0347, Validation Loss: 0.2834\n",
      "Epoch [14/50], Train Loss: 0.0223, Validation Loss: 0.2777\n",
      "Epoch [15/50], Train Loss: 0.0226, Validation Loss: 0.2774\n",
      "Epoch [16/50], Train Loss: 0.7825, Validation Loss: 0.2784\n",
      "Epoch [17/50], Train Loss: 0.0079, Validation Loss: 0.2679\n",
      "Epoch [18/50], Train Loss: 0.0355, Validation Loss: 0.2681\n",
      "Epoch [19/50], Train Loss: 0.1369, Validation Loss: 0.2558\n",
      "Epoch [20/50], Train Loss: 0.0874, Validation Loss: 0.2594\n",
      "Epoch [21/50], Train Loss: 0.0423, Validation Loss: 0.2577\n",
      "Epoch [22/50], Train Loss: 0.1712, Validation Loss: 0.2563\n",
      "Epoch [23/50], Train Loss: 0.0583, Validation Loss: 0.2543\n",
      "Epoch [24/50], Train Loss: 0.1573, Validation Loss: 0.2390\n",
      "Epoch [25/50], Train Loss: 0.0453, Validation Loss: 0.2425\n",
      "Epoch [26/50], Train Loss: 0.1397, Validation Loss: 0.2296\n",
      "Epoch [27/50], Train Loss: 0.0320, Validation Loss: 0.2359\n",
      "Epoch [28/50], Train Loss: 0.0390, Validation Loss: 0.2279\n",
      "Epoch [29/50], Train Loss: 0.0655, Validation Loss: 0.2260\n",
      "Epoch [30/50], Train Loss: 0.0254, Validation Loss: 0.2218\n",
      "Epoch [31/50], Train Loss: 0.0291, Validation Loss: 0.2237\n",
      "Epoch [32/50], Train Loss: 0.0108, Validation Loss: 0.2178\n",
      "Epoch [33/50], Train Loss: 0.0598, Validation Loss: 0.2215\n",
      "Epoch [34/50], Train Loss: 0.0495, Validation Loss: 0.2112\n",
      "Epoch [35/50], Train Loss: 0.0378, Validation Loss: 0.2120\n",
      "Epoch [36/50], Train Loss: 0.0244, Validation Loss: 0.2082\n",
      "Epoch [37/50], Train Loss: 0.0546, Validation Loss: 0.2102\n",
      "Epoch [38/50], Train Loss: 0.0524, Validation Loss: 0.2080\n",
      "Epoch [39/50], Train Loss: 0.0177, Validation Loss: 0.2030\n",
      "Epoch [40/50], Train Loss: 0.5943, Validation Loss: 0.2030\n",
      "Epoch [41/50], Train Loss: 0.0267, Validation Loss: 0.1983\n",
      "Epoch [42/50], Train Loss: 0.1103, Validation Loss: 0.1931\n",
      "Epoch [43/50], Train Loss: 1.3123, Validation Loss: 0.1904\n",
      "Epoch [44/50], Train Loss: 0.0368, Validation Loss: 0.1910\n",
      "Epoch [45/50], Train Loss: 0.0364, Validation Loss: 0.1884\n",
      "Epoch [46/50], Train Loss: 0.0136, Validation Loss: 0.1856\n",
      "Epoch [47/50], Train Loss: 0.0617, Validation Loss: 0.1860\n",
      "Epoch [48/50], Train Loss: 0.0949, Validation Loss: 0.1849\n",
      "Epoch [49/50], Train Loss: 0.1053, Validation Loss: 0.1832\n",
      "Epoch [50/50], Train Loss: 0.0482, Validation Loss: 0.1736\n"
     ]
    }
   ],
   "source": [
    "trainer.overall_loop()"
   ]
  },
  {
   "cell_type": "markdown",
   "metadata": {
    "pycharm": {
     "name": "#%% md\n"
    }
   },
   "source": [
    "Calculating validation accuracy"
   ]
  },
  {
   "cell_type": "code",
   "execution_count": 23,
   "outputs": [
    {
     "name": "stdout",
     "output_type": "stream",
     "text": [
      "tensor(16563)\n",
      "16954\n",
      "Accuracy of the model on the 10000 test images: 97.69375610351562 %\n"
     ]
    }
   ],
   "source": [
    "correct = 0\n",
    "total = 0\n",
    "for images, labels in validation_loader:\n",
    "    images = images.reshape(-1, args['img_size'])\n",
    "    outputs = model(images)\n",
    "    ##### YOUR CODE HERE\n",
    "    #XXXXXX = torch.max(outputs.data, 1)\n",
    "    #total += XXXXXX\n",
    "    #correct += XXXXXX\n",
    "    ##### YOUR CODE HERE\n",
    "print(correct)\n",
    "print(total)\n",
    "\n",
    "print('Accuracy of the model on the 10000 test images: {} %'.format(100 * correct / total))"
   ],
   "metadata": {
    "collapsed": false,
    "pycharm": {
     "name": "#%%\n"
    }
   }
  },
  {
   "cell_type": "code",
   "execution_count": null,
   "outputs": [],
   "source": [],
   "metadata": {
    "collapsed": false,
    "pycharm": {
     "name": "#%%\n"
    }
   }
  }
 ],
 "metadata": {
  "kernelspec": {
   "display_name": "Python 3",
   "language": "python",
   "name": "python3"
  },
  "language_info": {
   "codemirror_mode": {
    "name": "ipython",
    "version": 3
   },
   "file_extension": ".py",
   "mimetype": "text/x-python",
   "name": "python",
   "nbconvert_exporter": "python",
   "pygments_lexer": "ipython3",
   "version": "3.8.13"
  }
 },
 "nbformat": 4,
 "nbformat_minor": 4
}